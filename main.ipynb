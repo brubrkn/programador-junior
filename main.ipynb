{
 "cells": [
  {
   "cell_type": "markdown",
   "id": "39c4f841",
   "metadata": {},
   "source": [
    "Como iniciar um projeto\n",
    "\n",
    "- no menu superior clique em terminal > new terminal\n",
    "- para verificar a versão do python digite no terminal:  python —version\n",
    "- [main.py](http://main.py) (como boa pratica para rodar o arquivo principal)\n",
    "- para salvar o arquivo: ctrl + s\n",
    "- se o arquivo não estiver salvo fica uma bolinha branca na aba, quando está salvo fica o “x”\n",
    "- para rodar o comando ou aperte o “play” ou digite o nome do arquivo no terminal, ex:\n",
    " python main.py\n",
    "- print exibe no terminal alguma informação:\n",
    "    \n",
    "    para printar na tela: print (\"texto\")"
   ]
  },
  {
   "cell_type": "markdown",
   "id": "6c87039e",
   "metadata": {},
   "source": [
    "# Criando variáveis\n",
    "\n",
    "- nome: “Brunna”\n",
    "- idade: 28\n",
    "- peso: 67.3\n",
    "- print (nome)\n",
    "- print (idade)\n",
    "- Print (peso)\n",
    "- ctrl+s\n",
    "- digite no terminal: python main.py\n",
    "\n",
    "OBS: o input retorna os valores inseridos como string"
   ]
  },
  {
   "cell_type": "code",
   "execution_count": 1,
   "id": "6d2425b4",
   "metadata": {},
   "outputs": [
    {
     "name": "stdout",
     "output_type": "stream",
     "text": [
      "Brunna\n",
      "28\n",
      "67\n"
     ]
    }
   ],
   "source": [
    "nome = input (\"digite seu nome:\")\n",
    "idade = input (\"digite sua idade: \")\n",
    "peso = input (\"digite seu peso: \")\n",
    "print (nome)\n",
    "print (idade)\n",
    "print (peso)"
   ]
  },
  {
   "cell_type": "markdown",
   "id": "6740e4d0",
   "metadata": {},
   "source": [
    "Como converter retorno do input de string para outras variáveis como inteiro (int) ou decimal (float)"
   ]
  },
  {
   "cell_type": "code",
   "execution_count": 2,
   "id": "7e46ada6",
   "metadata": {},
   "outputs": [
    {
     "name": "stdout",
     "output_type": "stream",
     "text": [
      "Brunna\n",
      "28\n",
      "67.0\n"
     ]
    }
   ],
   "source": [
    "nome = input (\"digite seu nome:\")\n",
    "idade = int (input (\"digite sua idade: \"))\n",
    "peso = float (input (\"digite seu peso: \"))\n",
    "print (nome)\n",
    "print (idade)\n",
    "print (peso)"
   ]
  },
  {
   "cell_type": "markdown",
   "id": "601d8931",
   "metadata": {},
   "source": [
    "Como saber o tipo da variável? Inserindo \"type\""
   ]
  },
  {
   "cell_type": "code",
   "execution_count": null,
   "id": "88dad63b",
   "metadata": {},
   "outputs": [
    {
     "name": "stdout",
     "output_type": "stream",
     "text": [
      "Brunna\n",
      "<class 'str'>\n",
      "67.0\n"
     ]
    }
   ],
   "source": [
    "nome = input (\"digite seu nome:\")\n",
    "idade = int (input (\"digite sua idade: \"))\n",
    "peso = float (input (\"digite seu peso: \"))\n",
    "print (nome)\n",
    "print (type(idade))\n",
    "print (peso)"
   ]
  }
 ],
 "metadata": {
  "kernelspec": {
   "display_name": "Python 3",
   "language": "python",
   "name": "python3"
  },
  "language_info": {
   "codemirror_mode": {
    "name": "ipython",
    "version": 3
   },
   "file_extension": ".py",
   "mimetype": "text/x-python",
   "name": "python",
   "nbconvert_exporter": "python",
   "pygments_lexer": "ipython3",
   "version": "3.13.1"
  }
 },
 "nbformat": 4,
 "nbformat_minor": 5
}
